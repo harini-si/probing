{
  "nbformat": 4,
  "nbformat_minor": 0,
  "metadata": {
    "colab": {
      "name": "nlp.ipynb",
      "provenance": [],
      "collapsed_sections": []
    },
    "kernelspec": {
      "name": "python3",
      "display_name": "Python 3"
    },
    "language_info": {
      "name": "python"
    },
    "accelerator": "GPU"
  },
  "cells": [
    {
      "cell_type": "markdown",
      "metadata": {
        "id": "AOAIPgEYarqr"
      },
      "source": [
        "The following notebook contains the code  for the NLP part.\n",
        " Model used is as follows:\n",
        " 1. embedding layer\n",
        " 2. linear layer\n",
        " 3. lstm\n",
        " 4. linear layer\n",
        "\n",
        "hyperparamaters for simple model:\n",
        "\n",
        "batch size=256\n",
        "\n",
        "learning rate=0.001\n",
        "\n",
        "num epoch=10\n",
        "\n",
        "\n",
        
        "\n",
        "hyperparamaters for probe model:\n",
        "\n",
        "batch size= 100\n",
        "\n",
        "learning rate=0.001\n",
        "\n",
        "num epoch=\n",
        "\n",
        "probe layer and its accuracy:\n",
        "1. word embedding- 65%\n",
        "2. linear layer-57%\n",
        "3. lstm-59%"
      ]
    },
    {
      "cell_type": "code",
      "metadata": {
        "id": "lBzAEvSA-6sb",
        "colab": {
          "base_uri": "https://localhost:8080/"
        },
        "outputId": "e14729f4-14e8-4ab3-ce11-e0db0426c6d3"
      },
      "source": [
        "import torch\n",
        "import torch.nn as nn\n",
        "import torch.nn.functional as F\n",
        "import torch.optim as optim\n",
        "import numpy as np\n",
        "from torch.utils.data import DataLoader\n",
        "from torchtext.legacy import data\n",
        "from torchtext.legacy import datasets\n",
        "import pandas as pd\n",
        "import nltk\n",
        "nltk.download('averaged_perceptron_tagger')\n",
        "nltk.download('punkt')\n",
        "device='cuda'\n",
        "import pandas as pd"
      ],
      "execution_count": 1,
      "outputs": [
        {
          "output_type": "stream",
          "text": [
            "[nltk_data] Downloading package averaged_perceptron_tagger to\n",
            "[nltk_data]     /root/nltk_data...\n",
            "[nltk_data]   Unzipping taggers/averaged_perceptron_tagger.zip.\n",
            "[nltk_data] Downloading package punkt to /root/nltk_data...\n",
            "[nltk_data]   Unzipping tokenizers/punkt.zip.\n"
          ],
          "name": "stdout"
        }
      ]
    },
    {
      "cell_type": "code",
      "metadata": {
        "id": "EQkjZgJ3m399",
        "colab": {
          "base_uri": "https://localhost:8080/"
        },
        "outputId": "e7c73372-1faa-45cc-f4d9-dc33194b94b8"
      },
      "source": [
        "text = data.Field(tokenize = 'spacy', lower = True)\n",
        "label = data.LabelField()\n",
        "train_data, val_data,test_data= datasets.SNLI.splits(text,label)"
      ],
      "execution_count": 2,
      "outputs": [
        {
          "output_type": "stream",
          "text": [
            "downloading snli_1.0.zip\n"
          ],
          "name": "stdout"
        },
        {
          "output_type": "stream",
          "text": [
            "snli_1.0.zip: 100%|██████████| 94.6M/94.6M [00:01<00:00, 75.8MB/s]\n"
          ],
          "name": "stderr"
        },
        {
          "output_type": "stream",
          "text": [
            "extracting\n"
          ],
          "name": "stdout"
        }
      ]
    },
    {
      "cell_type": "code",
      "metadata": {
        "id": "D-RNofdjnvWT"
      },
      "source": [
        "text.build_vocab(train_data, val_data)\n",
        "label.build_vocab(train_data)\n",
        "train_iter, val_iter, test_iter = data.BucketIterator.splits(\n",
        "    (train_data, val_data, test_data), batch_size=256)"
      ],
      "execution_count": 3,
      "outputs": []
    },
    {
      "cell_type": "code",
      "metadata": {
        "colab": {
          "base_uri": "https://localhost:8080/"
        },
        "id": "JaXFLbWpuClg",
        "outputId": "25dae7ea-ff9b-4370-93da-66d4a9c7c340"
      },
      "source": [
        "len(train_iter)"
      ],
      "execution_count": 10,
      "outputs": [
        {
          "output_type": "execute_result",
          "data": {
            "text/plain": [
              "2146"
            ]
          },
          "metadata": {
            "tags": []
          },
          "execution_count": 10
        }
      ]
    },
    {
      "cell_type": "code",
      "metadata": {
        "id": "VnFBFzXkVmWY"
      },
      "source": [
        "class Model(nn.Module):\n",
        "    def __init__(self, input_dim):\n",
        "        super().__init__()\n",
        "        self.embedding = nn.Embedding(input_dim, 300, padding_idx = 1)\n",
        "        self.fc1 = nn.Linear(300, 300)\n",
        "        self.lstm = nn.LSTM(300, 300, num_layers = 1, bidirectional = True, dropout=0.5 )\n",
        "     \n",
        "        self.fc2 = nn.Linear(1200 , 3)\n",
        "        self.dropout = nn.Dropout(0.5)\n",
        "        \n",
        "    def forward(self, prem, hypo):\n",
        "\n",
        "        p = self.embedding(prem)\n",
        "        h = self.embedding(hypo)\n",
        "        \n",
        "        p = F.relu(self.fc1(p))\n",
        "        h = F.relu(self.fc1(h))\n",
        "        \n",
        "        o_p, (h_p, c_p) = self.lstm(p)\n",
        "        o_h, (h_h, c_h) = self.lstm(h)\n",
        "\n",
        "        h_p = torch.cat((h_p[-1], h_p[-2]), dim=-1)\n",
        "        h_h = torch.cat((h_h[-1], h_h[-2]), dim=-1)\n",
        "        \n",
        "        hidden = torch.cat((h_p, h_h), dim=1)\n",
        "\n",
        "        prediction = self.fc2(hidden)\n",
        "        return prediction\n",
        "\n",
        "input_dim = len(text.vocab)\n",
        "\n"
      ],
      "execution_count": 95,
      "outputs": []
    },
    {
      "cell_type": "code",
      "metadata": {
        "id": "Pz2ugUUGyRQW",
        "colab": {
          "base_uri": "https://localhost:8080/"
        },
        "outputId": "3fff99ed-d986-42d3-d021-787028c9ad55"
      },
      "source": [
        "num_epochs=3\n",
        "model = Model(input_dim).to(device)\n",
        "criterion = nn.CrossEntropyLoss()\n",
        "optimizer = torch.optim.Adam(model.parameters(), lr=0.001)"
      ],
      "execution_count": 109,
      "outputs": [
        {
          "output_type": "stream",
          "text": [
            "/usr/local/lib/python3.7/dist-packages/torch/nn/modules/rnn.py:65: UserWarning: dropout option adds dropout after all but last recurrent layer, so non-zero dropout expects num_layers greater than 1, but got dropout=0.5 and num_layers=1\n",
            "  \"num_layers={}\".format(dropout, num_layers))\n"
          ],
          "name": "stderr"
        }
      ]
    },
    {
      "cell_type": "code",
      "metadata": {
        "id": "Up2pK1f2dsr3",
        "colab": {
          "base_uri": "https://localhost:8080/"
        },
        "outputId": "4c84dc9d-22fb-41ba-9f7c-de15ac7ceb1b"
      },
      "source": [
        "model"
      ],
      "execution_count": null,
      "outputs": [
        {
          "output_type": "execute_result",
          "data": {
            "text/plain": [
              "Model(\n",
              "  (embedding): Embedding(15, 300, padding_idx=1)\n",
              "  (fc1): Linear(in_features=300, out_features=300, bias=True)\n",
              "  (lstm): LSTM(300, 300, num_layers=2, dropout=0.25, bidirectional=True)\n",
              "  (fc2): Linear(in_features=1200, out_features=3, bias=True)\n",
              "  (dropout): Dropout(p=0.5, inplace=False)\n",
              ")"
            ]
          },
          "metadata": {
            "tags": []
          },
          "execution_count": 41
        }
      ]
    },
    {
      "cell_type": "code",
      "metadata": {
        "id": "7AybaId7-qwH"
      },
      "source": [
        "def eval( iterator):\n",
        "    \n",
        "    loss = 0\n",
        "    acc = 0\n",
        "    correct=0\n",
        "    model.eval()\n",
        "    \n",
        "    with torch.no_grad():\n",
        "    \n",
        "        for batch in iterator:\n",
        "\n",
        "            prem = batch.premise.to(device)\n",
        "            hypo = batch.hypothesis.to(device)\n",
        "            labels = batch.label.to(device)\n",
        "                        \n",
        "            predictions = model(prem, hypo)\n",
        "            \n",
        "            loss += criterion(predictions, labels).item()\n",
        "            correct += (predictions.argmax(1) == labels).type(torch.float).sum().item()\n",
        "            \n",
        "        acc= correct/len(val_data)*100\n",
        "        \n",
        "    return  acc "
      ],
      "execution_count": 97,
      "outputs": []
    },
    {
      "cell_type": "code",
      "metadata": {
        "colab": {
          "base_uri": "https://localhost:8080/"
        },
        "id": "7skaf4ThqNmp",
        "outputId": "5c9725a7-e15d-41d6-9827-fb8382eb38ca"
      },
      "source": [
        "\n",
        "n_total_steps = len(train_iter)\n",
        "for epoch in range(num_epochs):\n",
        "    model.train()\n",
        "    ep_loss=0\n",
        "    acc=0\n",
        "    correct=0\n",
        "    total=0\n",
        "    for batch in train_iter:\n",
        "        prem = batch.premise.to(device)\n",
        "        hypo = batch.hypothesis.to(device)\n",
        "        labels = batch.label.to(device)\n",
        "                        \n",
        "        outputs = model(prem, hypo)\n",
        "            \n",
        "        loss = criterion(outputs, labels)\n",
        "        optimizer.zero_grad()\n",
        "        loss.backward()\n",
        "        optimizer.step()        \n",
        "        \n",
        "        _, predicted = outputs.max(1)\n",
        "        total += labels.size(0)\n",
        "        correct += predicted.eq(labels).sum().item()\n",
        "        \n",
        "        ep_loss += loss.item()\n",
        "     \n",
        "    accu= 100 * correct / len(train_data)\n",
        "    val_accu=eval(val_iter)\n",
        "    \n",
        "    print(f'Epoch [{epoch+1}/{num_epochs}], train_accuracy: {accu:.4f} ,train_loss: {ep_loss/len(train_iter):.4f}, val_accuracy: {val_accu:.4f} ')  "
      ],
      "execution_count": 110,
      "outputs": [
        {
          "output_type": "stream",
          "text": [
            "Epoch [1/3], train_accuracy: 63.7199 ,train_loss: 0.8098, val_accuracy: 66.7547 \n",
            "Epoch [2/3], train_accuracy: 68.1918 ,train_loss: 0.7339, val_accuracy: 68.3601 \n",
            "Epoch [3/3], train_accuracy: 70.0515 ,train_loss: 0.6995, val_accuracy: 69.3863 \n"
          ],
          "name": "stdout"
        }
      ]
    },
    {
      "cell_type": "code",
      "metadata": {
        "id": "FJOvk3QvXCpD"
      },
      "source": [
        "test_accu= eval(test_iter)"
      ],
      "execution_count": 132,
      "outputs": []
    },
    {
      "cell_type": "code",
      "metadata": {
        "id": "Sp2lfG8RtHLH",
        "colab": {
          "base_uri": "https://localhost:8080/"
        },
        "outputId": "0ca40b0e-d1aa-4d93-ea35-bca8b12c4804"
      },
      "source": [
        "print(test_accu)"
      ],
      "execution_count": 133,
      "outputs": [
        {
          "output_type": "stream",
          "text": [
            "68.0857549278602\n"
          ],
          "name": "stdout"
        }
      ]
    },
    {
      "cell_type": "code",
      "metadata": {
        "id": "ZGp9hiLM-bWr"
      },
      "source": [
        "PATH = './nlp.pth'\n",
        "torch.save(model.state_dict(), PATH)"
      ],
      "execution_count": 134,
      "outputs": []
    },
    {
      "cell_type": "code",
      "metadata": {
        "colab": {
          "base_uri": "https://localhost:8080/"
        },
        "id": "dSYJ3B79-l4n",
        "outputId": "d517b663-1ef3-404b-ee99-830fe1f3662c"
      },
      "source": [
        "model.load_state_dict(torch.load(PATH))"
      ],
      "execution_count": 135,
      "outputs": [
        {
          "output_type": "execute_result",
          "data": {
            "text/plain": [
              "<All keys matched successfully>"
            ]
          },
          "metadata": {
            "tags": []
          },
          "execution_count": 135
        }
      ]
    },
    {
      "cell_type": "code",
      "metadata": {
        "id": "EQT3SOI3aTx8"
      },
      "source": [
        "def tagger(data,x):\n",
        "  psent=[]\n",
        "  ptags=[]\n",
        "  hsent=[]\n",
        "  htags=[]\n",
        "\n",
        "  for i, batch in enumerate(data[0:x]):\n",
        " \n",
        "    ps, pt = zip(*nltk.pos_tag(batch.premise))\n",
        "    psent.append(ps)\n",
        "    ptags.append(pt)\n",
        "\n",
        "    hs, ht = zip(*nltk.pos_tag(batch.hypothesis))\n",
        "    hsent.append(hs)\n",
        "    htags.append(ht)\n",
        "  return psent,ptags,hsent,htags\n",
        "psent,ptags,hsent,htags= tagger(train_data, 20000)\n",
        "psent_test,ptags_test,hsent_test,htags_test= tagger(test_data, 9000)"
      ],
      "execution_count": 114,
      "outputs": []
    },
    {
      "cell_type": "code",
      "metadata": {
        "id": "TnKY0Ngmajvk"
      },
      "source": [
        "import collections\n",
        "from torchtext.data.functional import numericalize_tokens_from_iterator\n",
        "from torchtext.vocab import build_vocab_from_iterator\n",
        "vocab = build_vocab_from_iterator(psent+hsent+psent_test+hsent_test, specials=[\"<unk>\"])\n",
        "tag_vocab = build_vocab_from_iterator(ptags+htags+ptags_test+htags_test, specials=[\"<unk>\"])\n",
        "\n",
        "def convert_to_ids(sentences, taggings):\n",
        "  \n",
        "  for sentence, tagging in zip(sentences, taggings):\n",
        "    \n",
        "    sentence_iter = (numericalize_tokens_from_iterator(vocab,sentences))\n",
        "    tagging_iter = (numericalize_tokens_from_iterator(tag_vocab,taggings))\n",
        "    \n",
        "  return list(sentence_iter), list(tagging_iter)\n",
        "\n",
        "ptrain_sent, ptrain_tag = convert_to_ids(psent, ptags)\n",
        "htrain_sent, htrain_tag = convert_to_ids(hsent, htags)\n",
        "ptest_sent, ptest_tag = convert_to_ids(psent_test, ptags_test)\n",
        "htest_sent, htest_tag = convert_to_ids(hsent_test, htags_test)\n",
        "\n"
      ],
      "execution_count": 115,
      "outputs": []
    },
    {
      "cell_type": "code",
      "metadata": {
        "colab": {
          "base_uri": "https://localhost:8080/"
        },
        "id": "tI4zArluWNVe",
        "outputId": "33e69ebc-f972-4e77-b79b-901f90df84ea"
      },
      "source": [
        "len(tag_vocab)"
      ],
      "execution_count": 12,
      "outputs": [
        {
          "output_type": "execute_result",
          "data": {
            "text/plain": [
              "45"
            ]
          },
          "metadata": {
            "tags": []
          },
          "execution_count": 12
        }
      ]
    },
    {
      "cell_type": "code",
      "metadata": {
        "id": "pTth6sPFaDSC"
      },
      "source": [
        "def make_list(input):\n",
        "  x=[]\n",
        "  for i in input:\n",
        "    x.append([n for n in i])\n",
        "  return x\n",
        "\n",
        "def make_pairs(x,y):\n",
        "  da=[]\n",
        "  for a,b in zip(x,y):\n",
        "\n",
        "    l=[a,b]\n",
        "    l=torch.tensor(l)\n",
        "    da.append(l)  \n",
        "  return da\n",
        "\n",
        "pts=make_list(ptrain_sent)\n",
        "ptt=make_list(ptrain_tag)\n",
        "hts= make_list(htrain_sent)\n",
        "htt=  make_list(htrain_tag)\n",
        "\n",
        "pts_test=make_list(ptest_sent)\n",
        "ptt_test=make_list(ptest_tag)\n",
        "hts_test= make_list(htest_sent)\n",
        "htt_test=  make_list(htest_tag)\n",
        "\n",
        "prem= make_pairs(pts,ptt)\n",
        "hypo= make_pairs(hts,htt)\n",
        "prem_test= make_pairs(pts_test,ptt_test)\n",
        "hypo_test= make_pairs(hts_test,htt_test)"
      ],
      "execution_count": 116,
      "outputs": []
    },
    {
      "cell_type": "code",
      "metadata": {
        "id": "e3xziZfa3rW4"
      },
      "source": [
        "def collate_fn(items):\n",
        "  max_len = max(len(item[0]) for item in items)\n",
        "\n",
        "  sentences = torch.zeros((len(items), max_len)).long()\n",
        "  taggings = torch.zeros((len(items), max_len)).long()\n",
        "\n",
        "  for i, (sentence, tagging) in enumerate(items):\n",
        "    sentences[i][0:len(sentence)] = sentence\n",
        "    taggings[i][0:len(tagging)] = tagging\n",
        "\n",
        "  return sentences, taggings\n",
        "\n",
        "  \n",
        "ptraindataloader=DataLoader(prem,batch_size=100, collate_fn=collate_fn)\n",
        "htraindataloader=DataLoader(hypo,batch_size=100, collate_fn=collate_fn)\n",
        "ptestdataloader=DataLoader(prem_test,batch_size=100, collate_fn=collate_fn)\n",
        "htestdataloader=DataLoader(hypo_test,batch_size=100, collate_fn=collate_fn)"
      ],
      "execution_count": 156,
      "outputs": []
    },
    {
      "cell_type": "code",
      "metadata": {
        "id": "wkx3AKh20YMK"
      },
      "source": [
        "class probe(nn.Module):\n",
        "    def __init__(self, model,out):\n",
        "        super(probe, self).__init__()\n",
        "        self.features = nn.Sequential(*list(model.children())[:-2])\n",
        "        for p in model.parameters():\n",
        "          p.requires_grad=False\n",
        "        self.pr= nn.Linear(600,out)\n",
        "    def forward(self, prem, hypo):\n",
        "        p,(_,_) = self.features(prem)\n",
        "        h,(_,_)= self.features(hypo)\n",
        "        p= self.pr(p)\n",
        "        h= self.pr(h)\n",
        "        \n",
        "        return p,h\n",
        "\n",
        "\n",
        "probe_model = probe(model,len(tag_vocab)).to(device)\n"
      ],
      "execution_count": 207,
      "outputs": []
    },
    {
      "cell_type": "code",
      "metadata": {
        "id": "MxQPI1bLoQpR",
        "colab": {
          "base_uri": "https://localhost:8080/"
        },
        "outputId": "0df3c16b-6424-4fbb-cfbd-3abf1eecd18f"
      },
      "source": [
        "print(probe_model)\n",
        "criterion1 = nn.CrossEntropyLoss().to(device)\n",
        "optimizer1 = torch.optim.Adam(probe_model.parameters(), lr=0.001,weight_decay=1e-4)"
      ],
      "execution_count": 208,
      "outputs": [
        {
          "output_type": "stream",
          "text": [
            "probe(\n",
            "  (features): Sequential(\n",
            "    (0): Embedding(33932, 300, padding_idx=1)\n",
            "    (1): Linear(in_features=300, out_features=300, bias=True)\n",
            "    (2): LSTM(300, 300, dropout=0.5, bidirectional=True)\n",
            "  )\n",
            "  (pr): Linear(in_features=600, out_features=46, bias=True)\n",
            ")\n"
          ],
          "name": "stdout"
        }
      ]
    },
    {
      "cell_type": "code",
      "metadata": {
        "id": "u43NfPzht7sG"
      },
      "source": [
        "#create a test function\n",
        "def evaluate_probe(model):\n",
        "    epoch_loss = 0\n",
        "    epoch_acc = 0\n",
        "    correct=0\n",
        "    total=0\n",
        "    \n",
        "    l1=0\n",
        "    l2=0\n",
        "    t1=0\n",
        "    t2=0\n",
        "    model.eval()\n",
        "    \n",
        "    with torch.no_grad():\n",
        "    \n",
        "        for i, (p,h) in enumerate(zip(ptestdataloader,htestdataloader)) :\n",
        "\n",
        "            ps=p[0].to(device)\n",
        "            pt=p[1].to(device)\n",
        "            hs=h[0].to(device)\n",
        "            ht=h[1].to(device)\n",
        "                \n",
        "            tag1, tag2 = model(ps,hs)\n",
        "         \n",
        "          \n",
        "            x=[]\n",
        "            for i in range(100):\n",
        "              _, predicted = tag1[i].max(1)\n",
        "              x.append(predicted)\n",
        "           \n",
        "            x=torch.stack(x)\n",
        "           \n",
        "            \n",
        "            y=[]\n",
        "            for i in range(100):\n",
        "              _, pred = tag2[i].max(1)\n",
        "              y.append(pred)\n",
        "      \n",
        "            y=torch.stack(y)\n",
        "            \n",
        "            \n",
        "            l1+= ((pt==x)|(pt==0)).sum()\n",
        "            l2+= ((ht==y)|(ht==0)).sum()\n",
        "            t1+= ((pt!=-1)|(pt==0)).sum()\n",
        "            t2+= ((ht!=-1)|(ht==0)).sum()\n",
        "            \n",
        "            \n",
        "        correct=l1+l2\n",
        "        total=t1+t2\n",
        "        epoch_acc=(correct/total)*100\n",
        "        \n",
        "    print(f' test_accuracy: {epoch_acc:.4f}')  "
      ],
      "execution_count": 209,
      "outputs": []
    },
    {
      "cell_type": "code",
      "metadata": {
        "id": "xTSWkq5yt5Vw"
      },
      "source": [
        "def train_probe(model, epoch, num_epochs):\n",
        "    epoch_loss = 0\n",
        "    epoch_acc = 0\n",
        "    correct=0\n",
        "    total=0\n",
        "    pc=0\n",
        "    hc=0\n",
        "    ptest_loss=0\n",
        "    htest_loss=0\n",
        "    l1=0\n",
        "    l2=0\n",
        "    t1=0\n",
        "    t2=0\n",
        "    \n",
        "    model.train()\n",
        "    \n",
        "    \n",
        "    \n",
        "    for i, (p,h) in enumerate(zip(ptraindataloader,htraindataloader)) :\n",
        "\n",
        "       ps=p[0].to(device)\n",
        "       pt=p[1].to(device)\n",
        "       hs=h[0].to(device)\n",
        "       ht=h[1].to(device)\n",
        "                    \n",
        "       tag1, tag2 = model(ps,hs)\n",
        "       \n",
        "        \n",
        "       x=[]\n",
        "       for i in range(100):\n",
        "        _, predicted = tag1[i].max(1)\n",
        "        x.append(predicted)\n",
        "           \n",
        "       x=torch.stack(x)\n",
        "       \n",
        "        \n",
        "           \n",
        "       pc +=x.eq(pt).sum().item()\n",
        "       y=[]\n",
        "       for i in range(100):\n",
        "         _, pred = tag2[i].max(1)\n",
        "         y.append(pred)\n",
        "      \n",
        "       y=torch.stack(y)\n",
        "          \n",
        "       \n",
        "       l1+= ((pt==x)|(pt==0)).sum()\n",
        "       l2+= ((ht==y)|(ht==0)).sum()\n",
        "       t1+= ((pt!=-1)|(pt==0)).sum()\n",
        "       t2+= ((ht!=-1)|(ht==0)).sum()\n",
        "       pt = torch.zeros((len(pt),46)).to(device).long()\n",
        "       ht = torch.zeros((len(ht),46)).to(device).long() \n",
        "       tag1= torch.squeeze(tag1,dim=-1)\n",
        "       pt= torch.squeeze(pt,dim=-1)\n",
        "       tag2= torch.squeeze(tag2,dim=-1)\n",
        "       ht= torch.squeeze(ht,dim=-1)\n",
        "       #print(tag1)\n",
        "       ploss=criterion1(tag1,pt)\n",
        "       hloss=criterion1(tag2,ht)     \n",
        "       optimizer1.zero_grad()\n",
        "       loss=(ploss+hloss)\n",
        "       loss.backward()\n",
        "       #hloss.backward()\n",
        "       optimizer1.step()     \n",
        "       \n",
        "            \n",
        "    correct=l1+l2\n",
        "    total=t1+t2\n",
        "    epoch_acc=(correct/total)*100\n",
        "        \n",
        "    print(f'Epoch [{epoch+1}/{num_epochs1}], train_accuracy: {epoch_acc:.4f} ,train_loss: {(ploss+hloss)/2:.4f} ')  \n",
        "       "
      ],
      "execution_count": 210,
      "outputs": []
    },
    {
      "cell_type": "code",
      "metadata": {
        "id": "0f_gPaNwvKHK"
      },
      "source": [
        "num_epochs1=10\n",
        "for epoch in range(num_epochs1):\n",
        "  train_probe(probe_model,epoch,num_epochs1)\n",
        "  evaluate_probe(probe_model)"
      ],
      "execution_count": null,
      "outputs": []
    }
  ]
}
